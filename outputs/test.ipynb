{
 "cells": [
  {
   "cell_type": "code",
   "execution_count": 7,
   "metadata": {},
   "outputs": [],
   "source": [
    "def decode_action(s_action):\n",
    "    res = []\n",
    "    str_list = f'{s_action:015b}'.split()\n",
    "    for char in str_list[0]:\n",
    "        res.append(int(char))\n",
    "    return res"
   ]
  },
  {
   "cell_type": "code",
   "execution_count": 8,
   "metadata": {},
   "outputs": [
    {
     "name": "stdout",
     "output_type": "stream",
     "text": [
      "[0, 0, 0, 0, 0, 0, 0, 0, 0, 0, 1, 0, 0, 0, 0]\n"
     ]
    }
   ],
   "source": [
    "print(decode_action(16))"
   ]
  },
  {
   "cell_type": "code",
   "execution_count": 3,
   "metadata": {},
   "outputs": [],
   "source": [
    "a = f'{16:015b}'.split()"
   ]
  },
  {
   "cell_type": "code",
   "execution_count": 4,
   "metadata": {},
   "outputs": [
    {
     "data": {
      "text/plain": [
       "['000000000010000']"
      ]
     },
     "execution_count": 4,
     "metadata": {},
     "output_type": "execute_result"
    }
   ],
   "source": [
    "a"
   ]
  },
  {
   "cell_type": "code",
   "execution_count": 6,
   "metadata": {},
   "outputs": [
    {
     "data": {
      "text/plain": [
       "['000000000010000']"
      ]
     },
     "execution_count": 6,
     "metadata": {},
     "output_type": "execute_result"
    }
   ],
   "source": [
    "a[0].split()"
   ]
  },
  {
   "cell_type": "code",
   "execution_count": 9,
   "metadata": {},
   "outputs": [],
   "source": [
    "def mapped_state(state):\n",
    "    \"\"\"\n",
    "    Mapped a given state into the state as neural network input, insert trivial vehicles until vehs_num = 15\n",
    "    :param state: given state\n",
    "    :return: new state\n",
    "    \"\"\"\n",
    "    num_diff = 15 - len(state)\n",
    "    for i in range(num_diff):\n",
    "        # status of which vehicle is 2, indicating this vehicle is trivial\n",
    "        state.append([0, 0, 0, 0, 0, 2])\n",
    "\n",
    "    return state"
   ]
  },
  {
   "cell_type": "code",
   "execution_count": 10,
   "metadata": {},
   "outputs": [
    {
     "data": {
      "text/plain": [
       "[1,\n",
       " [0, 0, 0, 0, 0, 2],\n",
       " [0, 0, 0, 0, 0, 2],\n",
       " [0, 0, 0, 0, 0, 2],\n",
       " [0, 0, 0, 0, 0, 2],\n",
       " [0, 0, 0, 0, 0, 2],\n",
       " [0, 0, 0, 0, 0, 2],\n",
       " [0, 0, 0, 0, 0, 2],\n",
       " [0, 0, 0, 0, 0, 2],\n",
       " [0, 0, 0, 0, 0, 2],\n",
       " [0, 0, 0, 0, 0, 2],\n",
       " [0, 0, 0, 0, 0, 2],\n",
       " [0, 0, 0, 0, 0, 2],\n",
       " [0, 0, 0, 0, 0, 2],\n",
       " [0, 0, 0, 0, 0, 2]]"
      ]
     },
     "execution_count": 10,
     "metadata": {},
     "output_type": "execute_result"
    }
   ],
   "source": [
    "mapped_state([1])"
   ]
  },
  {
   "cell_type": "code",
   "execution_count": null,
   "metadata": {},
   "outputs": [],
   "source": []
  }
 ],
 "metadata": {
  "kernelspec": {
   "display_name": "Python 3",
   "language": "python",
   "name": "python3"
  },
  "language_info": {
   "codemirror_mode": {
    "name": "ipython",
    "version": 3
   },
   "file_extension": ".py",
   "mimetype": "text/x-python",
   "name": "python",
   "nbconvert_exporter": "python",
   "pygments_lexer": "ipython3",
   "version": "3.7.3"
  }
 },
 "nbformat": 4,
 "nbformat_minor": 4
}
